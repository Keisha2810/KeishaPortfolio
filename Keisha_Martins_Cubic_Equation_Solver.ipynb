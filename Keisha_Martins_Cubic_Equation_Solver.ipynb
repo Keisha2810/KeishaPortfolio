{
 "cells": [
  {
   "cell_type": "code",
   "execution_count": null,
   "metadata": {},
   "outputs": [],
   "source": [
    "#Program to solve cubic equations\n",
    "a= float(input(\"The coefficient of x^3 is: \"))\n",
    "b= float(input(\"The coefficient of x^2 is: \"))\n",
    "c= float(input(\"The coefficient of x^1 is: \"))\n",
    "d= float(input(\"The coefficient of x^0 is: \"))\n",
    "A= a/a\n",
    "B= b/a\n",
    "C= c/a\n",
    "D= d/a\n",
    "print(\"The equation is now a monic equation of X^3 +\",B,\"X^2 +\",C,\"X^1 +\",D,\"X^0 = 0\")\n",
    "Q = ((3*C-(B**2))/9)\n",
    "R = (9*B*C-27*D-2*B**3)/54\n",
    "print(\"Q=\",Q)\n",
    "print(\"R=\",R)\n",
    "print(\"The formula of S is (R+(Q^3+R^2)^(1/2))^(1/3)\")\n",
    "S = -(-R+(Q**3+R**2)**(1/2))**(1/3)\n",
    "print (\"S=\",S)\n",
    "print(\"The formula of T is (R-(Q^3+R^2)^(1/2))^(1/3)\")\n",
    "T = -(-R-(Q**3+R**2)**(1/2))**(1/3)\n",
    "print(\"T=\",T)\n",
    "X1= S+T-(1/3*B)\n",
    "print(\"The first root of the equation is: \",X1)\n",
    "X2= -((S+T)/2)-B/3+(1j*(3**1/2)*(S-T))/2\n",
    "print(\"The second root of the equation is: \",X2)\n",
    "X3= -((S+T)/2)-B/3-(1j*(3**1/2)*(S-T))/2\n",
    "print(\"The third root of the equation is: \",X3)\n"
   ]
  }
 ],
 "metadata": {
  "kernelspec": {
   "display_name": "Python 3",
   "language": "python",
   "name": "python3"
  },
  "language_info": {
   "codemirror_mode": {
    "name": "ipython",
    "version": 3
   },
   "file_extension": ".py",
   "mimetype": "text/x-python",
   "name": "python",
   "nbconvert_exporter": "python",
   "pygments_lexer": "ipython3",
   "version": "3.8.5"
  }
 },
 "nbformat": 4,
 "nbformat_minor": 4
}
