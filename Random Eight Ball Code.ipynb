{
 "cells": [
  {
   "cell_type": "code",
   "execution_count": null,
   "id": "72a864d8",
   "metadata": {},
   "outputs": [],
   "source": [
    "import random\n",
    "\n",
    "ans = True\n",
    "\n",
    "while ans:\n",
    "    name = input(\"What is your name? \")\n",
    "    greeting = \"Hi \"+name\n",
    "    question = input(greeting + \" Ask the magic 8 ball a question: (press enter to quit) \")\n",
    "\n",
    "    answers = random.randint(1,8)\n",
    "\n",
    "    if question == \"\":\n",
    "        print(greeting +  \" No question given. System will exit now.\")\n",
    "        ans = False\n",
    "        \n",
    "    elif answers == 1:\n",
    "        print (greeting + \" It is certain\")\n",
    "\n",
    "    elif answers == 2:\n",
    "        print (greeting + \" Outlook good\")\n",
    "\n",
    "    elif answers == 3:\n",
    "        print (greeting + \" You may rely on it\")\n",
    "\n",
    "    elif answers == 4:\n",
    "        print (greeting + \" Ask again later\")\n",
    "\n",
    "    elif answers == 5:\n",
    "        print (greeting + \" Concentrate and ask again\")\n",
    "\n",
    "    elif answers == 6:\n",
    "        print (greeting + \" Reply hazy, try again\")\n",
    "\n",
    "    elif answers == 7:\n",
    "        print (greeting + \" My reply is no\")\n",
    "\n",
    "    elif answers == 8:\n",
    "        print (greeting + \" My sources say no\")\n",
    "    \n"
   ]
  },
  {
   "cell_type": "code",
   "execution_count": null,
   "id": "714d0fe4",
   "metadata": {},
   "outputs": [],
   "source": []
  },
  {
   "cell_type": "code",
   "execution_count": null,
   "id": "e64d78a4",
   "metadata": {},
   "outputs": [],
   "source": []
  }
 ],
 "metadata": {
  "kernelspec": {
   "display_name": "Python 3 (ipykernel)",
   "language": "python",
   "name": "python3"
  },
  "language_info": {
   "codemirror_mode": {
    "name": "ipython",
    "version": 3
   },
   "file_extension": ".py",
   "mimetype": "text/x-python",
   "name": "python",
   "nbconvert_exporter": "python",
   "pygments_lexer": "ipython3",
   "version": "3.9.12"
  }
 },
 "nbformat": 4,
 "nbformat_minor": 5
}
