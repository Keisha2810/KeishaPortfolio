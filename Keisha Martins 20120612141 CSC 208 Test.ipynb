{
 "cells": [
  {
   "cell_type": "code",
   "execution_count": 30,
   "id": "2ac187e1",
   "metadata": {},
   "outputs": [
    {
     "name": "stdout",
     "output_type": "stream",
     "text": [
      "[1, 3, 4, 5, 6, 7]\n",
      "[5, 1, 3, 4, 6, 7]\n",
      "[1, 3, 4, 6, 7, 5]\n",
      "[[6, 4], [5, 1, 3, 7]]\n"
     ]
    }
   ],
   "source": [
    "class BST:\n",
    "    def __init__(self,value):\n",
    "        self.value = value\n",
    "        self.left = None\n",
    "        self.right = None\n",
    "        \n",
    "def add_to_Binary_Search_Tree(node,added):\n",
    "    if node.value is None:\n",
    "        return\n",
    "    if node.value > added:\n",
    "        if node.left is not None:\n",
    "            add_to_Binary_Search_Tree(node.left,added)\n",
    "        else:\n",
    "            node.left = BST(added)\n",
    "    if node.value < added:\n",
    "        if node.right is not None:\n",
    "            add_to_Binary_Search_Tree(node.right,added)\n",
    "        else:\n",
    "            node.right = BST(added)\n",
    "            \n",
    "the_list = [5,4,6,7,1,3,1,1,1,5]\n",
    "bst = BST(the_list[0])\n",
    "for x in the_list[1:]:\n",
    "    add_to_Binary_Search_Tree(bst,x)\n",
    "    \n",
    "def inorder(node):\n",
    "    if node is None:\n",
    "        return[]\n",
    "    else:\n",
    "        return inorder(node.left) + [node.value] + inorder(node.right)\n",
    "    \n",
    "def preorder(node):\n",
    "    if node is None:\n",
    "        return[]\n",
    "    else:\n",
    "        return [node.value] + inorder(node.left) + inorder(node.right)\n",
    "\n",
    "def postorder(node):\n",
    "    if node is None:\n",
    "        return[]\n",
    "    else:\n",
    "        return inorder(node.left) + inorder(node.right)+ [node.value] \n",
    "print(inorder(bst))\n",
    "print(preorder(bst))\n",
    "print(postorder(bst))\n",
    "\n",
    "y = []\n",
    "def even(bst,y):\n",
    "    if bst is None:\n",
    "        return \n",
    "    if (bst.value%2)==0:\n",
    "        y.append(bst.value)\n",
    "    bst_right = (even(bst.right,y))\n",
    "    bst_left = (even(bst.left,y))\n",
    "    return y \n",
    "\n",
    "r=[]\n",
    "def odd(bst,r):\n",
    "    if bst == None:\n",
    "        return\n",
    "    if((bst.value%2)!=0):\n",
    "        r.append(bst.value)\n",
    "    leftbst = odd(bst.left,r)\n",
    "    rightbst = odd(bst.right,r)\n",
    "    return r\n",
    "\n",
    "def return_all_even_odd_values_from_Binary_Search_Tree(bst,y,r):\n",
    "    u = even(bst,y)\n",
    "    v = odd(bst,r)\n",
    "    return [u,v]\n",
    "\n",
    "print(return_all_even_odd_values_from_Binary_Search_Tree(bst,y,r))\n",
    "\n",
    "\n",
    "        \n",
    "\n",
    "\n"
   ]
  },
  {
   "cell_type": "code",
   "execution_count": null,
   "id": "81a7025f",
   "metadata": {},
   "outputs": [],
   "source": []
  },
  {
   "cell_type": "code",
   "execution_count": null,
   "id": "82dc307a",
   "metadata": {},
   "outputs": [],
   "source": []
  }
 ],
 "metadata": {
  "kernelspec": {
   "display_name": "Python 3 (ipykernel)",
   "language": "python",
   "name": "python3"
  },
  "language_info": {
   "codemirror_mode": {
    "name": "ipython",
    "version": 3
   },
   "file_extension": ".py",
   "mimetype": "text/x-python",
   "name": "python",
   "nbconvert_exporter": "python",
   "pygments_lexer": "ipython3",
   "version": "3.9.12"
  }
 },
 "nbformat": 4,
 "nbformat_minor": 5
}
